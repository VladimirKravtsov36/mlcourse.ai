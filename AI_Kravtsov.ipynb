{
  "nbformat": 4,
  "nbformat_minor": 0,
  "metadata": {
    "colab": {
      "name": "AI_Kravtsov.ipynb",
      "provenance": [],
      "collapsed_sections": [],
      "authorship_tag": "ABX9TyOsUT0NzVfL+RVa/vfBdy4Q",
      "include_colab_link": true
    },
    "kernelspec": {
      "name": "python3",
      "display_name": "Python 3"
    },
    "accelerator": "GPU"
  },
  "cells": [
    {
      "cell_type": "markdown",
      "metadata": {
        "id": "view-in-github",
        "colab_type": "text"
      },
      "source": [
        "<a href=\"https://colab.research.google.com/github/VladimirKravtsov36/mlcourse.ai/blob/master/AI_Kravtsov.ipynb\" target=\"_parent\"><img src=\"https://colab.research.google.com/assets/colab-badge.svg\" alt=\"Open In Colab\"/></a>"
      ]
    },
    {
      "cell_type": "code",
      "metadata": {
        "id": "r-igsLt9AxYH"
      },
      "source": [
        "from keras.layers import Conv2D, MaxPooling2D, AveragePooling2D, Dense, Dropout, Flatten\n",
        "from keras.preprocessing.image import ImageDataGenerator\n",
        "from keras.models import load_model, Sequential\n",
        "from keras.datasets import cifar10\n",
        "from keras.utils import np_utils\n",
        "from keras.losses import categorical_crossentropy\n",
        "from keras.optimizers import Adam\n",
        "from keras.layers.normalization import BatchNormalization\n",
        "from keras.callbacks import ReduceLROnPlateau, EarlyStopping\n",
        "import numpy as np\n",
        "import matplotlib.pyplot as plt\n",
        "%matplotlib inline"
      ],
      "execution_count": null,
      "outputs": []
    },
    {
      "cell_type": "code",
      "metadata": {
        "id": "6rdQXDzMOhsY"
      },
      "source": [
        "np.random.seed(42)"
      ],
      "execution_count": null,
      "outputs": []
    },
    {
      "cell_type": "code",
      "metadata": {
        "id": "eJ2CBg2kFeGh"
      },
      "source": [
        "(X_train, y_train), (X_test, y_test) = cifar10.load_data()"
      ],
      "execution_count": null,
      "outputs": []
    },
    {
      "cell_type": "code",
      "metadata": {
        "id": "XYxyMRnvFyWJ"
      },
      "source": [
        "X_train = X_train.astype('float32')\n",
        "X_test = X_test.astype('float32')\n",
        "X_train /= 255\n",
        "X_test /=255 "
      ],
      "execution_count": null,
      "outputs": []
    },
    {
      "cell_type": "code",
      "metadata": {
        "id": "DyFCYRmXRjrJ"
      },
      "source": [
        "y_train_cat = np_utils.to_categorical(y_train, 10)\n",
        "y_test_cat = np_utils.to_categorical(y_test, 10)"
      ],
      "execution_count": null,
      "outputs": []
    },
    {
      "cell_type": "code",
      "metadata": {
        "id": "c9gB8N0muv97"
      },
      "source": [
        "datagen = ImageDataGenerator(\n",
        "        featurewise_center=False,  # set input mean to 0 over the dataset\n",
        "        samplewise_center=False,  # set each sample mean to 0\n",
        "        featurewise_std_normalization=False,  # divide inputs by std of the dataset\n",
        "        samplewise_std_normalization=False,  # divide each input by its std\n",
        "        zca_whitening=False,  # apply ZCA whitening\n",
        "        rotation_range=10,  # randomly rotate images in the range (degrees, 0 to 180)\n",
        "        zoom_range = 0.1, # Randomly zoom image \n",
        "        width_shift_range=0.1,  # randomly shift images horizontally (fraction of total width)\n",
        "        height_shift_range=0.1,  # randomly shift images vertically (fraction of total height)\n",
        "        horizontal_flip=False,  # randomly flip images\n",
        "        vertical_flip=False)  # randomly flip images\n",
        "\n",
        "\n",
        "datagen.fit(X_train)"
      ],
      "execution_count": null,
      "outputs": []
    },
    {
      "cell_type": "code",
      "metadata": {
        "id": "xlE6FvYkGk3m"
      },
      "source": [
        "lenet = Sequential()\n",
        "\n",
        "lenet.add(Conv2D(6, kernel_size=(5, 5), strides=(1, 1), activation='sigmoid', input_shape=X_train.shape[1:], padding=\"same\"))\n",
        "lenet.add(BatchNormalization())\n",
        "lenet.add(AveragePooling2D(pool_size=(2, 2), strides=(1, 1), padding='valid'))\n",
        "lenet.add(Conv2D(16, kernel_size=(5, 5), strides=(1, 1), activation='sigmoid', padding='valid'))\n",
        "lenet.add(BatchNormalization())\n",
        "lenet.add(AveragePooling2D(pool_size=(2, 2), strides=(2, 2), padding='valid'))\n",
        "lenet.add(Conv2D(120, kernel_size=(5, 5), strides=(1, 1), activation='sigmoid', padding='valid'))\n",
        "lenet.add(BatchNormalization())\n",
        "lenet.add(Flatten())\n",
        "lenet.add(Dense(120, activation='sigmoid'))\n",
        "lenet.add(Dropout(0.4))\n",
        "lenet.add(BatchNormalization())\n",
        "lenet.add(Dense(84, activation='sigmoid'))\n",
        "lenet.add(Dropout(0.2))\n",
        "lenet.add(BatchNormalization())\n",
        "lenet.add(Dense(y_train_cat.shape[1], activation='softmax'))\n",
        "\n",
        "lenet.compile(loss=categorical_crossentropy, optimizer='adam', metrics=['accuracy'])"
      ],
      "execution_count": null,
      "outputs": []
    },
    {
      "cell_type": "code",
      "metadata": {
        "colab": {
          "base_uri": "https://localhost:8080/"
        },
        "id": "AGSogMNDrHtU",
        "outputId": "91624304-73bd-40dc-b715-2435bee857d3"
      },
      "source": [
        "lenet.summary()"
      ],
      "execution_count": null,
      "outputs": [
        {
          "output_type": "stream",
          "text": [
            "Model: \"sequential_1\"\n",
            "_________________________________________________________________\n",
            "Layer (type)                 Output Shape              Param #   \n",
            "=================================================================\n",
            "conv2d_5 (Conv2D)            (None, 32, 32, 6)         456       \n",
            "_________________________________________________________________\n",
            "batch_normalization_8 (Batch (None, 32, 32, 6)         24        \n",
            "_________________________________________________________________\n",
            "average_pooling2d (AveragePo (None, 31, 31, 6)         0         \n",
            "_________________________________________________________________\n",
            "conv2d_6 (Conv2D)            (None, 27, 27, 16)        2416      \n",
            "_________________________________________________________________\n",
            "batch_normalization_9 (Batch (None, 27, 27, 16)        64        \n",
            "_________________________________________________________________\n",
            "average_pooling2d_1 (Average (None, 13, 13, 16)        0         \n",
            "_________________________________________________________________\n",
            "conv2d_7 (Conv2D)            (None, 9, 9, 120)         48120     \n",
            "_________________________________________________________________\n",
            "batch_normalization_10 (Batc (None, 9, 9, 120)         480       \n",
            "_________________________________________________________________\n",
            "flatten_1 (Flatten)          (None, 9720)              0         \n",
            "_________________________________________________________________\n",
            "dense_4 (Dense)              (None, 120)               1166520   \n",
            "_________________________________________________________________\n",
            "dropout_3 (Dropout)          (None, 120)               0         \n",
            "_________________________________________________________________\n",
            "batch_normalization_11 (Batc (None, 120)               480       \n",
            "_________________________________________________________________\n",
            "dense_5 (Dense)              (None, 84)                10164     \n",
            "_________________________________________________________________\n",
            "dropout_4 (Dropout)          (None, 84)                0         \n",
            "_________________________________________________________________\n",
            "batch_normalization_12 (Batc (None, 84)                336       \n",
            "_________________________________________________________________\n",
            "dense_6 (Dense)              (None, 10)                850       \n",
            "=================================================================\n",
            "Total params: 1,229,910\n",
            "Trainable params: 1,229,218\n",
            "Non-trainable params: 692\n",
            "_________________________________________________________________\n"
          ],
          "name": "stdout"
        }
      ]
    },
    {
      "cell_type": "code",
      "metadata": {
        "id": "g5azbDE6pttV"
      },
      "source": [
        "lrr = ReduceLROnPlateau(monitor='val_accuracy',patience=2,verbose=1,factor=0.5, min_lr=0.0000005)\n",
        "early_stop = EarlyStopping(monitor='val_accuracy', patience=4)"
      ],
      "execution_count": null,
      "outputs": []
    },
    {
      "cell_type": "markdown",
      "metadata": {
        "id": "cBrCAFZzbyzD"
      },
      "source": [
        "оставить 50 эпох и ниже тоже\n",
        "\n"
      ]
    },
    {
      "cell_type": "code",
      "metadata": {
        "colab": {
          "base_uri": "https://localhost:8080/"
        },
        "id": "MnOaCsItv5nn",
        "outputId": "e9eb4838-e997-4e25-8f46-cca0844ca5f0"
      },
      "source": [
        "history_le = lenet.fit(datagen.flow(X_train, y_train_cat, batch_size=32), epochs=100,\n",
        "                       validation_data=(X_test, y_test_cat), callbacks=[lrr, early_stop])"
      ],
      "execution_count": null,
      "outputs": [
        {
          "output_type": "stream",
          "text": [
            "Epoch 1/100\n",
            "1563/1563 [==============================] - 27s 17ms/step - loss: 2.0919 - accuracy: 0.2511 - val_loss: 1.8952 - val_accuracy: 0.3393\n",
            "Epoch 2/100\n",
            "1563/1563 [==============================] - 28s 18ms/step - loss: 1.7488 - accuracy: 0.3561 - val_loss: 1.6189 - val_accuracy: 0.4163\n",
            "Epoch 3/100\n",
            "1563/1563 [==============================] - 27s 17ms/step - loss: 1.6410 - accuracy: 0.4016 - val_loss: 1.5196 - val_accuracy: 0.4425\n",
            "Epoch 4/100\n",
            "1563/1563 [==============================] - 28s 18ms/step - loss: 1.5804 - accuracy: 0.4264 - val_loss: 1.4444 - val_accuracy: 0.4703\n",
            "Epoch 5/100\n",
            "1563/1563 [==============================] - 27s 17ms/step - loss: 1.5210 - accuracy: 0.4499 - val_loss: 1.3511 - val_accuracy: 0.5148\n",
            "Epoch 6/100\n",
            "1563/1563 [==============================] - 27s 17ms/step - loss: 1.4775 - accuracy: 0.4701 - val_loss: 1.2666 - val_accuracy: 0.5459\n",
            "Epoch 7/100\n",
            "1563/1563 [==============================] - 27s 17ms/step - loss: 1.4376 - accuracy: 0.4859 - val_loss: 1.2962 - val_accuracy: 0.5280\n",
            "Epoch 8/100\n",
            "1561/1563 [============================>.] - ETA: 0s - loss: 1.4101 - accuracy: 0.4982\n",
            "Epoch 00008: ReduceLROnPlateau reducing learning rate to 0.0005000000237487257.\n",
            "1563/1563 [==============================] - 27s 17ms/step - loss: 1.4101 - accuracy: 0.4982 - val_loss: 1.3620 - val_accuracy: 0.5187\n",
            "Epoch 9/100\n",
            "1563/1563 [==============================] - 27s 17ms/step - loss: 1.3522 - accuracy: 0.5188 - val_loss: 1.1565 - val_accuracy: 0.5849\n",
            "Epoch 10/100\n",
            "1563/1563 [==============================] - 27s 17ms/step - loss: 1.3187 - accuracy: 0.5316 - val_loss: 1.1652 - val_accuracy: 0.5855\n",
            "Epoch 11/100\n",
            "1563/1563 [==============================] - 27s 17ms/step - loss: 1.3051 - accuracy: 0.5397 - val_loss: 1.1606 - val_accuracy: 0.5820\n",
            "Epoch 12/100\n",
            "1563/1563 [==============================] - 27s 17ms/step - loss: 1.2828 - accuracy: 0.5474 - val_loss: 1.1361 - val_accuracy: 0.5965\n",
            "Epoch 13/100\n",
            "1563/1563 [==============================] - 27s 17ms/step - loss: 1.2615 - accuracy: 0.5544 - val_loss: 1.1085 - val_accuracy: 0.6010\n",
            "Epoch 14/100\n",
            "1563/1563 [==============================] - 27s 17ms/step - loss: 1.2492 - accuracy: 0.5619 - val_loss: 1.0898 - val_accuracy: 0.6136\n",
            "Epoch 15/100\n",
            "1563/1563 [==============================] - 27s 17ms/step - loss: 1.2291 - accuracy: 0.5681 - val_loss: 1.1039 - val_accuracy: 0.6093\n",
            "Epoch 16/100\n",
            "1561/1563 [============================>.] - ETA: 0s - loss: 1.2193 - accuracy: 0.5718\n",
            "Epoch 00016: ReduceLROnPlateau reducing learning rate to 0.0002500000118743628.\n",
            "1563/1563 [==============================] - 27s 17ms/step - loss: 1.2193 - accuracy: 0.5718 - val_loss: 1.1274 - val_accuracy: 0.6018\n",
            "Epoch 17/100\n",
            "1563/1563 [==============================] - 27s 17ms/step - loss: 1.1979 - accuracy: 0.5799 - val_loss: 1.0309 - val_accuracy: 0.6348\n",
            "Epoch 18/100\n",
            "1563/1563 [==============================] - 27s 17ms/step - loss: 1.1765 - accuracy: 0.5859 - val_loss: 1.0229 - val_accuracy: 0.6379\n",
            "Epoch 19/100\n",
            "1563/1563 [==============================] - 27s 17ms/step - loss: 1.1705 - accuracy: 0.5887 - val_loss: 1.0369 - val_accuracy: 0.6356\n",
            "Epoch 20/100\n",
            "1563/1563 [==============================] - 27s 17ms/step - loss: 1.1622 - accuracy: 0.5927 - val_loss: 1.0185 - val_accuracy: 0.6405\n",
            "Epoch 21/100\n",
            "1563/1563 [==============================] - 27s 17ms/step - loss: 1.1517 - accuracy: 0.5969 - val_loss: 0.9969 - val_accuracy: 0.6479\n",
            "Epoch 22/100\n",
            "1563/1563 [==============================] - 27s 17ms/step - loss: 1.1464 - accuracy: 0.5999 - val_loss: 0.9837 - val_accuracy: 0.6500\n",
            "Epoch 23/100\n",
            "1563/1563 [==============================] - 27s 17ms/step - loss: 1.1351 - accuracy: 0.6030 - val_loss: 0.9825 - val_accuracy: 0.6544\n",
            "Epoch 24/100\n",
            "1563/1563 [==============================] - 27s 17ms/step - loss: 1.1315 - accuracy: 0.6065 - val_loss: 0.9977 - val_accuracy: 0.6476\n",
            "Epoch 25/100\n",
            "1563/1563 [==============================] - ETA: 0s - loss: 1.1173 - accuracy: 0.6111\n",
            "Epoch 00025: ReduceLROnPlateau reducing learning rate to 0.0001250000059371814.\n",
            "1563/1563 [==============================] - 27s 17ms/step - loss: 1.1173 - accuracy: 0.6111 - val_loss: 1.0114 - val_accuracy: 0.6446\n",
            "Epoch 26/100\n",
            "1563/1563 [==============================] - 27s 17ms/step - loss: 1.1063 - accuracy: 0.6130 - val_loss: 0.9662 - val_accuracy: 0.6602\n",
            "Epoch 27/100\n",
            "1563/1563 [==============================] - 28s 18ms/step - loss: 1.1034 - accuracy: 0.6148 - val_loss: 0.9593 - val_accuracy: 0.6598\n",
            "Epoch 28/100\n",
            "1562/1563 [============================>.] - ETA: 0s - loss: 1.1077 - accuracy: 0.6148\n",
            "Epoch 00028: ReduceLROnPlateau reducing learning rate to 6.25000029685907e-05.\n",
            "1563/1563 [==============================] - 27s 18ms/step - loss: 1.1075 - accuracy: 0.6149 - val_loss: 0.9608 - val_accuracy: 0.6578\n",
            "Epoch 29/100\n",
            "1563/1563 [==============================] - 27s 17ms/step - loss: 1.0896 - accuracy: 0.6200 - val_loss: 0.9538 - val_accuracy: 0.6616\n",
            "Epoch 30/100\n",
            "1563/1563 [==============================] - 27s 17ms/step - loss: 1.0910 - accuracy: 0.6206 - val_loss: 0.9592 - val_accuracy: 0.6613\n",
            "Epoch 31/100\n",
            "1563/1563 [==============================] - 27s 17ms/step - loss: 1.0840 - accuracy: 0.6196 - val_loss: 0.9445 - val_accuracy: 0.6667\n",
            "Epoch 32/100\n",
            "1563/1563 [==============================] - 27s 17ms/step - loss: 1.0854 - accuracy: 0.6208 - val_loss: 0.9479 - val_accuracy: 0.6650\n",
            "Epoch 33/100\n",
            "1563/1563 [==============================] - 27s 17ms/step - loss: 1.0775 - accuracy: 0.6244 - val_loss: 0.9407 - val_accuracy: 0.6671\n",
            "Epoch 34/100\n",
            "1563/1563 [==============================] - 27s 17ms/step - loss: 1.0760 - accuracy: 0.6263 - val_loss: 0.9427 - val_accuracy: 0.6670\n",
            "Epoch 35/100\n",
            "1563/1563 [==============================] - ETA: 0s - loss: 1.0783 - accuracy: 0.6255\n",
            "Epoch 00035: ReduceLROnPlateau reducing learning rate to 3.125000148429535e-05.\n",
            "1563/1563 [==============================] - 27s 17ms/step - loss: 1.0783 - accuracy: 0.6255 - val_loss: 0.9453 - val_accuracy: 0.6661\n",
            "Epoch 36/100\n",
            "1563/1563 [==============================] - 27s 17ms/step - loss: 1.0691 - accuracy: 0.6270 - val_loss: 0.9404 - val_accuracy: 0.6682\n",
            "Epoch 37/100\n",
            "1563/1563 [==============================] - 27s 17ms/step - loss: 1.0760 - accuracy: 0.6283 - val_loss: 0.9413 - val_accuracy: 0.6698\n",
            "Epoch 38/100\n",
            "1563/1563 [==============================] - 28s 18ms/step - loss: 1.0683 - accuracy: 0.6284 - val_loss: 0.9327 - val_accuracy: 0.6735\n",
            "Epoch 39/100\n",
            "1563/1563 [==============================] - 27s 17ms/step - loss: 1.0715 - accuracy: 0.6257 - val_loss: 0.9329 - val_accuracy: 0.6724\n",
            "Epoch 40/100\n",
            "1563/1563 [==============================] - ETA: 0s - loss: 1.0686 - accuracy: 0.6270\n",
            "Epoch 00040: ReduceLROnPlateau reducing learning rate to 1.5625000742147677e-05.\n",
            "1563/1563 [==============================] - 27s 17ms/step - loss: 1.0686 - accuracy: 0.6270 - val_loss: 0.9425 - val_accuracy: 0.6694\n",
            "Epoch 41/100\n",
            "1563/1563 [==============================] - 27s 17ms/step - loss: 1.0668 - accuracy: 0.6306 - val_loss: 0.9337 - val_accuracy: 0.6723\n",
            "Epoch 42/100\n",
            "1563/1563 [==============================] - 27s 17ms/step - loss: 1.0651 - accuracy: 0.6282 - val_loss: 0.9323 - val_accuracy: 0.6740\n",
            "Epoch 43/100\n",
            "1563/1563 [==============================] - 27s 17ms/step - loss: 1.0662 - accuracy: 0.6306 - val_loss: 0.9309 - val_accuracy: 0.6739\n",
            "Epoch 44/100\n",
            "1563/1563 [==============================] - 27s 17ms/step - loss: 1.0582 - accuracy: 0.6296 - val_loss: 0.9315 - val_accuracy: 0.6742\n",
            "Epoch 45/100\n",
            "1563/1563 [==============================] - 27s 17ms/step - loss: 1.0595 - accuracy: 0.6321 - val_loss: 0.9349 - val_accuracy: 0.6715\n",
            "Epoch 46/100\n",
            "1562/1563 [============================>.] - ETA: 0s - loss: 1.0609 - accuracy: 0.6333\n",
            "Epoch 00046: ReduceLROnPlateau reducing learning rate to 7.812500371073838e-06.\n",
            "1563/1563 [==============================] - 27s 17ms/step - loss: 1.0609 - accuracy: 0.6334 - val_loss: 0.9397 - val_accuracy: 0.6717\n",
            "Epoch 47/100\n",
            "1563/1563 [==============================] - 27s 17ms/step - loss: 1.0621 - accuracy: 0.6316 - val_loss: 0.9339 - val_accuracy: 0.6729\n",
            "Epoch 48/100\n",
            "1563/1563 [==============================] - 27s 17ms/step - loss: 1.0601 - accuracy: 0.6320 - val_loss: 0.9308 - val_accuracy: 0.6745\n",
            "Epoch 49/100\n",
            "1563/1563 [==============================] - 27s 17ms/step - loss: 1.0598 - accuracy: 0.6306 - val_loss: 0.9316 - val_accuracy: 0.6747\n",
            "Epoch 50/100\n",
            "1563/1563 [==============================] - 28s 18ms/step - loss: 1.0587 - accuracy: 0.6326 - val_loss: 0.9318 - val_accuracy: 0.6727\n",
            "Epoch 51/100\n",
            "1560/1563 [============================>.] - ETA: 0s - loss: 1.0594 - accuracy: 0.6330\n",
            "Epoch 00051: ReduceLROnPlateau reducing learning rate to 3.906250185536919e-06.\n",
            "1563/1563 [==============================] - 27s 17ms/step - loss: 1.0595 - accuracy: 0.6330 - val_loss: 0.9329 - val_accuracy: 0.6727\n",
            "Epoch 52/100\n",
            "1563/1563 [==============================] - 27s 17ms/step - loss: 1.0590 - accuracy: 0.6333 - val_loss: 0.9312 - val_accuracy: 0.6725\n",
            "Epoch 53/100\n",
            "1561/1563 [============================>.] - ETA: 0s - loss: 1.0597 - accuracy: 0.6320\n",
            "Epoch 00053: ReduceLROnPlateau reducing learning rate to 1.9531250927684596e-06.\n",
            "1563/1563 [==============================] - 27s 17ms/step - loss: 1.0596 - accuracy: 0.6322 - val_loss: 0.9349 - val_accuracy: 0.6732\n"
          ],
          "name": "stdout"
        }
      ]
    },
    {
      "cell_type": "code",
      "metadata": {
        "id": "hAp1ZJffBUMk"
      },
      "source": [
        "lenet.save('lenet.h5')"
      ],
      "execution_count": null,
      "outputs": []
    },
    {
      "cell_type": "code",
      "metadata": {
        "colab": {
          "base_uri": "https://localhost:8080/",
          "height": 443
        },
        "id": "tsHLrVUJcFdJ",
        "outputId": "e79e6bd2-802c-489b-bf90-789501044245"
      },
      "source": [
        "f = plt.figure(figsize=(20,7))\n",
        "\n",
        "\n",
        "f.add_subplot(121)\n",
        "\n",
        "plt.plot(history_le.epoch,history_le.history['accuracy'],label = \"accuracy\") \n",
        "plt.plot(history_le.epoch,history_le.history['val_accuracy'],label = \"val_accuracy\") \n",
        "\n",
        "plt.title(\"Accuracy Curve\",fontsize=18)\n",
        "plt.xlabel(\"Epochs\",fontsize=15)\n",
        "plt.ylabel(\"Accuracy\",fontsize=15)\n",
        "plt.grid(alpha=0.3)\n",
        "plt.legend()\n",
        "\n",
        "\n",
        "f.add_subplot(122)\n",
        "\n",
        "plt.plot(history_le.epoch,history_le.history['loss'],label=\"loss\") # Loss curve for training set\n",
        "plt.plot(history_le.epoch,history_le.history['val_loss'],label=\"val_loss\") # Loss curve for validation set\n",
        "\n",
        "plt.title(\"Loss Curve\",fontsize=18)\n",
        "plt.xlabel(\"Epochs\",fontsize=15)\n",
        "plt.ylabel(\"Loss\",fontsize=15)\n",
        "plt.grid(alpha=0.3)\n",
        "plt.legend()\n",
        "\n",
        "plt.show()"
      ],
      "execution_count": null,
      "outputs": [
        {
          "output_type": "display_data",
          "data": {
            "image/png": "[encoded data removed]",
            "text/plain": [
              "<Figure size 1440x504 with 2 Axes>"
            ]
          },
          "metadata": {
            "tags": [],
            "needs_background": "light"
          }
        }
      ]
    },
    {
      "cell_type": "code",
      "metadata": {
        "colab": {
          "base_uri": "https://localhost:8080/"
        },
        "id": "eUiYjcIDcxmq",
        "outputId": "32d20231-36a6-4fcb-b3ed-f36001991a27"
      },
      "source": [
        "lenet.predict(X_test)"
      ],
      "execution_count": null,
      "outputs": [
        {
          "output_type": "execute_result",
          "data": {
            "text/plain": [
              "array([[8.8641122e-03, 4.1858382e-03, 4.2181525e-02, ..., 1.3543873e-02,\n",
              "        1.1666744e-02, 2.8896350e-03],\n",
              "       [6.4075790e-02, 5.0885624e-01, 2.6051472e-03, ..., 5.4441812e-04,\n",
              "        3.3757371e-01, 8.3020799e-02],\n",
              "       [1.4869709e-01, 1.2256340e-01, 3.5957955e-03, ..., 1.2095191e-03,\n",
              "        6.7220801e-01, 4.7761068e-02],\n",
              "       ...,\n",
              "       [2.7637838e-03, 1.3145956e-03, 3.3951953e-02, ..., 3.9310630e-02,\n",
              "        3.1995391e-03, 2.5861582e-03],\n",
              "       [3.1728452e-01, 3.9197880e-01, 4.4906504e-02, ..., 2.9063022e-02,\n",
              "        8.5747764e-02, 7.0471384e-02],\n",
              "       [9.6001709e-04, 2.6875024e-04, 9.1497861e-03, ..., 8.6658353e-01,\n",
              "        4.2578584e-05, 2.0881882e-03]], dtype=float32)"
            ]
          },
          "metadata": {
            "tags": []
          },
          "execution_count": 13
        }
      ]
    },
    {
      "cell_type": "code",
      "metadata": {
        "colab": {
          "base_uri": "https://localhost:8080/",
          "height": 526
        },
        "id": "hCKkP9lEcFii",
        "outputId": "eb6162cc-ca86-4e2a-c412-a63881fbfbe5"
      },
      "source": [
        "preds = np.argmax(lenet.predict(X_test),axis =1)\n",
        "\n",
        "error = 0\n",
        "confusion_matrix = np.zeros([10,10])\n",
        "for i in range(X_test.shape[0]):\n",
        "    confusion_matrix[y_test[i],preds[i]] += 1\n",
        "    if y_test[i]!=preds[i]:\n",
        "        error +=1\n",
        "\n",
        "f = plt.figure(figsize=(10,8.5))\n",
        "f.add_subplot(111)\n",
        "\n",
        "plt.imshow(np.log2(confusion_matrix+1),cmap=\"Reds\")\n",
        "plt.colorbar()\n",
        "plt.tick_params(size=5,color=\"white\")\n",
        "plt.xticks(np.arange(0,10),np.arange(0,10))\n",
        "plt.yticks(np.arange(0,10),np.arange(0,10))\n",
        "\n",
        "threshold = confusion_matrix.max()/2 \n",
        "\n",
        "for i in range(10):\n",
        "    for j in range(10):\n",
        "        plt.text(j,i,int(confusion_matrix[i,j]),horizontalalignment=\"center\",color=\"white\" if confusion_matrix[i, j] > threshold else \"black\")\n",
        "        \n",
        "plt.xlabel(\"Predicted\")\n",
        "plt.ylabel(\"Actual\")\n",
        "plt.title(\"Confusion Matrix\")\n",
        "plt.show()"
      ],
      "execution_count": null,
      "outputs": [
        {
          "output_type": "display_data",
          "data": {
            "image/png": "[encoded data removed]",
            "text/plain": [
              "<Figure size 720x612 with 2 Axes>"
            ]
          },
          "metadata": {
            "tags": [],
            "needs_background": "light"
          }
        }
      ]
    },
    {
      "cell_type": "code",
      "metadata": {
        "id": "xlr5NwhscFgO"
      },
      "source": [
        ""
      ],
      "execution_count": null,
      "outputs": []
    },
    {
      "cell_type": "markdown",
      "metadata": {
        "id": "28zgpRNkM5SF"
      },
      "source": [
        "# Alex Net"
      ]
    },
    {
      "cell_type": "code",
      "metadata": {
        "colab": {
          "base_uri": "https://localhost:8080/"
        },
        "id": "Hwt8oGBNM81I",
        "outputId": "a4f25e9b-e030-4e69-a08b-2b747662f2b2"
      },
      "source": [
        "#Instantiate an empty model\n",
        "alexnet = Sequential()\n",
        "\n",
        "\n",
        "alexnet.add(Conv2D(filters=96, input_shape=X_train.shape[1:], kernel_size=(11,11), strides=(4,4), padding='same', activation='relu'))\n",
        "alexnet.add(MaxPooling2D(pool_size=(2,2), strides=(2,2), padding='same'))\n",
        "alexnet.add(BatchNormalization())\n",
        "\n",
        "alexnet.add(Conv2D(filters=256, kernel_size=(11,11), strides=(1,1), padding='same', activation='relu'))\n",
        "alexnet.add(MaxPooling2D(pool_size=(2,2), strides=(2,2), padding='same'))\n",
        "alexnet.add(BatchNormalization())\n",
        "\n",
        "alexnet.add(Conv2D(filters=384, kernel_size=(3,3), strides=(1,1), padding='same', activation='relu'))\n",
        "alexnet.add(BatchNormalization())\n",
        "alexnet.add(Conv2D(filters=384, kernel_size=(3,3), strides=(1,1), padding='same', activation='relu'))\n",
        "alexnet.add(BatchNormalization())\n",
        "alexnet.add(Conv2D(filters=256, kernel_size=(3,3), strides=(1,1), padding='same', activation='relu'))\n",
        "alexnet.add(MaxPooling2D(pool_size=(2,2), strides=(2,2), padding='same'))\n",
        "alexnet.add(BatchNormalization())\n",
        "\n",
        "alexnet.add(Flatten())\n",
        "alexnet.add(Dense(4096, input_shape=X_train.shape[1:], activation='relu')) \n",
        "alexnet.add(Dropout(0.4))\n",
        "alexnet.add(BatchNormalization())\n",
        "\n",
        "alexnet.add(Dense(4096, activation='relu'))\n",
        "alexnet.add(Dropout(0.4))\n",
        "alexnet.add(BatchNormalization())\n",
        "\n",
        "alexnet.add(Dense(1000, activation='relu'))\n",
        "alexnet.add(Dropout(0.4))\n",
        "alexnet.add(BatchNormalization())\n",
        "\n",
        "alexnet.add(Dense(y_train_cat.shape[1], activation='softmax'))\n",
        "\n",
        "alexnet.summary()\n",
        "\n",
        "alexnet.compile(loss=categorical_crossentropy, optimizer='adam', metrics=['accuracy'])"
      ],
      "execution_count": null,
      "outputs": [
        {
          "output_type": "stream",
          "text": [
            "Model: \"sequential\"\n",
            "_________________________________________________________________\n",
            "Layer (type)                 Output Shape              Param #   \n",
            "=================================================================\n",
            "conv2d (Conv2D)              (None, 8, 8, 96)          34944     \n",
            "_________________________________________________________________\n",
            "max_pooling2d (MaxPooling2D) (None, 4, 4, 96)          0         \n",
            "_________________________________________________________________\n",
            "batch_normalization (BatchNo (None, 4, 4, 96)          384       \n",
            "_________________________________________________________________\n",
            "conv2d_1 (Conv2D)            (None, 4, 4, 256)         2973952   \n",
            "_________________________________________________________________\n",
            "max_pooling2d_1 (MaxPooling2 (None, 2, 2, 256)         0         \n",
            "_________________________________________________________________\n",
            "batch_normalization_1 (Batch (None, 2, 2, 256)         1024      \n",
            "_________________________________________________________________\n",
            "conv2d_2 (Conv2D)            (None, 2, 2, 384)         885120    \n",
            "_________________________________________________________________\n",
            "batch_normalization_2 (Batch (None, 2, 2, 384)         1536      \n",
            "_________________________________________________________________\n",
            "conv2d_3 (Conv2D)            (None, 2, 2, 384)         1327488   \n",
            "_________________________________________________________________\n",
            "batch_normalization_3 (Batch (None, 2, 2, 384)         1536      \n",
            "_________________________________________________________________\n",
            "conv2d_4 (Conv2D)            (None, 2, 2, 256)         884992    \n",
            "_________________________________________________________________\n",
            "max_pooling2d_2 (MaxPooling2 (None, 1, 1, 256)         0         \n",
            "_________________________________________________________________\n",
            "batch_normalization_4 (Batch (None, 1, 1, 256)         1024      \n",
            "_________________________________________________________________\n",
            "flatten (Flatten)            (None, 256)               0         \n",
            "_________________________________________________________________\n",
            "dense (Dense)                (None, 4096)              1052672   \n",
            "_________________________________________________________________\n",
            "dropout (Dropout)            (None, 4096)              0         \n",
            "_________________________________________________________________\n",
            "batch_normalization_5 (Batch (None, 4096)              16384     \n",
            "_________________________________________________________________\n",
            "dense_1 (Dense)              (None, 4096)              16781312  \n",
            "_________________________________________________________________\n",
            "dropout_1 (Dropout)          (None, 4096)              0         \n",
            "_________________________________________________________________\n",
            "batch_normalization_6 (Batch (None, 4096)              16384     \n",
            "_________________________________________________________________\n",
            "dense_2 (Dense)              (None, 1000)              4097000   \n",
            "_________________________________________________________________\n",
            "dropout_2 (Dropout)          (None, 1000)              0         \n",
            "_________________________________________________________________\n",
            "batch_normalization_7 (Batch (None, 1000)              4000      \n",
            "_________________________________________________________________\n",
            "dense_3 (Dense)              (None, 10)                10010     \n",
            "=================================================================\n",
            "Total params: 28,089,762\n",
            "Trainable params: 28,068,626\n",
            "Non-trainable params: 21,136\n",
            "_________________________________________________________________\n"
          ],
          "name": "stdout"
        }
      ]
    },
    {
      "cell_type": "code",
      "metadata": {
        "colab": {
          "base_uri": "https://localhost:8080/"
        },
        "id": "xmmkODFZPFzQ",
        "outputId": "dd9bac25-e61b-4475-b210-ef8f52ead7d8"
      },
      "source": [
        "history_alex = alexnet.fit(datagen.flow(X_train, y_train_cat, batch_size=32),\n",
        "                           epochs=100, validation_data=(X_test, y_test_cat), callbacks=[lrr, early_stop])"
      ],
      "execution_count": null,
      "outputs": [
        {
          "output_type": "stream",
          "text": [
            "Epoch 1/100\n",
            "1563/1563 [==============================] - 43s 28ms/step - loss: 2.0274 - accuracy: 0.2957 - val_loss: 1.8729 - val_accuracy: 0.3601\n",
            "Epoch 2/100\n",
            "1563/1563 [==============================] - 43s 27ms/step - loss: 1.6215 - accuracy: 0.4226 - val_loss: 1.5357 - val_accuracy: 0.4638\n",
            "Epoch 3/100\n",
            "1563/1563 [==============================] - 43s 27ms/step - loss: 1.4854 - accuracy: 0.4750 - val_loss: 1.5104 - val_accuracy: 0.4816\n",
            "Epoch 4/100\n",
            "1563/1563 [==============================] - 43s 27ms/step - loss: 1.3814 - accuracy: 0.5166 - val_loss: 1.3612 - val_accuracy: 0.5226\n",
            "Epoch 5/100\n",
            "1563/1563 [==============================] - 43s 27ms/step - loss: 1.2985 - accuracy: 0.5476 - val_loss: 1.2401 - val_accuracy: 0.5696\n",
            "Epoch 6/100\n",
            "1563/1563 [==============================] - 43s 28ms/step - loss: 1.2278 - accuracy: 0.5730 - val_loss: 1.1838 - val_accuracy: 0.5899\n",
            "Epoch 7/100\n",
            "1563/1563 [==============================] - 43s 27ms/step - loss: 1.1602 - accuracy: 0.5986 - val_loss: 1.1997 - val_accuracy: 0.5679\n",
            "Epoch 8/100\n",
            "1563/1563 [==============================] - 43s 27ms/step - loss: 1.0984 - accuracy: 0.6220 - val_loss: 1.0650 - val_accuracy: 0.6307\n",
            "Epoch 9/100\n",
            "1563/1563 [==============================] - 43s 27ms/step - loss: 1.0492 - accuracy: 0.6389 - val_loss: 1.2768 - val_accuracy: 0.5590\n",
            "Epoch 10/100\n",
            "1563/1563 [==============================] - 43s 27ms/step - loss: 1.0076 - accuracy: 0.6526 - val_loss: 0.9719 - val_accuracy: 0.6584\n",
            "Epoch 11/100\n",
            "1563/1563 [==============================] - 43s 27ms/step - loss: 0.9588 - accuracy: 0.6681 - val_loss: 1.0275 - val_accuracy: 0.6411\n",
            "Epoch 12/100\n",
            "1562/1563 [============================>.] - ETA: 0s - loss: 0.9255 - accuracy: 0.6814\n",
            "Epoch 00012: ReduceLROnPlateau reducing learning rate to 0.0005000000237487257.\n",
            "1563/1563 [==============================] - 43s 27ms/step - loss: 0.9256 - accuracy: 0.6814 - val_loss: 1.0610 - val_accuracy: 0.6455\n",
            "Epoch 13/100\n",
            "1563/1563 [==============================] - 43s 28ms/step - loss: 0.8127 - accuracy: 0.7197 - val_loss: 0.9131 - val_accuracy: 0.6845\n",
            "Epoch 14/100\n",
            "1563/1563 [==============================] - 43s 27ms/step - loss: 0.7673 - accuracy: 0.7354 - val_loss: 0.8967 - val_accuracy: 0.6873\n",
            "Epoch 15/100\n",
            "1563/1563 [==============================] - 43s 27ms/step - loss: 0.7405 - accuracy: 0.7439 - val_loss: 0.9003 - val_accuracy: 0.6940\n",
            "Epoch 16/100\n",
            "1563/1563 [==============================] - 43s 27ms/step - loss: 0.7090 - accuracy: 0.7550 - val_loss: 0.8859 - val_accuracy: 0.6999\n",
            "Epoch 17/100\n",
            "1563/1563 [==============================] - 43s 27ms/step - loss: 0.6834 - accuracy: 0.7628 - val_loss: 0.9006 - val_accuracy: 0.6986\n",
            "Epoch 18/100\n",
            "1563/1563 [==============================] - 43s 27ms/step - loss: 0.6564 - accuracy: 0.7727 - val_loss: 0.8852 - val_accuracy: 0.7028\n",
            "Epoch 19/100\n",
            "1563/1563 [==============================] - 43s 27ms/step - loss: 0.6291 - accuracy: 0.7827 - val_loss: 0.9551 - val_accuracy: 0.6885\n",
            "Epoch 20/100\n",
            "1562/1563 [============================>.] - ETA: 0s - loss: 0.6076 - accuracy: 0.7888\n",
            "Epoch 00020: ReduceLROnPlateau reducing learning rate to 0.0002500000118743628.\n",
            "1563/1563 [==============================] - 43s 27ms/step - loss: 0.6077 - accuracy: 0.7888 - val_loss: 0.9176 - val_accuracy: 0.6998\n",
            "Epoch 21/100\n",
            "1563/1563 [==============================] - 43s 27ms/step - loss: 0.5380 - accuracy: 0.8126 - val_loss: 0.9058 - val_accuracy: 0.7056\n",
            "Epoch 22/100\n",
            "1563/1563 [==============================] - 43s 27ms/step - loss: 0.5093 - accuracy: 0.8221 - val_loss: 0.8955 - val_accuracy: 0.7106\n",
            "Epoch 23/100\n",
            "1563/1563 [==============================] - 43s 27ms/step - loss: 0.4926 - accuracy: 0.8276 - val_loss: 0.9115 - val_accuracy: 0.7093\n",
            "Epoch 24/100\n",
            "1563/1563 [==============================] - 43s 27ms/step - loss: 0.4828 - accuracy: 0.8315 - val_loss: 0.9048 - val_accuracy: 0.7132\n",
            "Epoch 25/100\n",
            "1563/1563 [==============================] - 42s 27ms/step - loss: 0.4679 - accuracy: 0.8375 - val_loss: 0.9247 - val_accuracy: 0.7115\n",
            "Epoch 26/100\n",
            "1561/1563 [============================>.] - ETA: 0s - loss: 0.4454 - accuracy: 0.8438\n",
            "Epoch 00026: ReduceLROnPlateau reducing learning rate to 0.0001250000059371814.\n",
            "1563/1563 [==============================] - 43s 27ms/step - loss: 0.4456 - accuracy: 0.8437 - val_loss: 0.9591 - val_accuracy: 0.7131\n",
            "Epoch 27/100\n",
            "1563/1563 [==============================] - 43s 27ms/step - loss: 0.4071 - accuracy: 0.8579 - val_loss: 0.9312 - val_accuracy: 0.7203\n",
            "Epoch 28/100\n",
            "1563/1563 [==============================] - 43s 27ms/step - loss: 0.3940 - accuracy: 0.8636 - val_loss: 0.9413 - val_accuracy: 0.7209\n",
            "Epoch 29/100\n",
            "1563/1563 [==============================] - 43s 27ms/step - loss: 0.3824 - accuracy: 0.8686 - val_loss: 0.9736 - val_accuracy: 0.7139\n",
            "Epoch 30/100\n",
            "1563/1563 [==============================] - ETA: 0s - loss: 0.3715 - accuracy: 0.8712\n",
            "Epoch 00030: ReduceLROnPlateau reducing learning rate to 6.25000029685907e-05.\n",
            "1563/1563 [==============================] - 43s 28ms/step - loss: 0.3715 - accuracy: 0.8712 - val_loss: 0.9736 - val_accuracy: 0.7173\n",
            "Epoch 31/100\n",
            "1563/1563 [==============================] - 43s 27ms/step - loss: 0.3510 - accuracy: 0.8770 - val_loss: 0.9653 - val_accuracy: 0.7178\n",
            "Epoch 32/100\n",
            "1563/1563 [==============================] - 43s 28ms/step - loss: 0.3420 - accuracy: 0.8814 - val_loss: 0.9783 - val_accuracy: 0.7219\n",
            "Epoch 33/100\n",
            "1563/1563 [==============================] - 43s 27ms/step - loss: 0.3419 - accuracy: 0.8825 - val_loss: 0.9810 - val_accuracy: 0.7221\n",
            "Epoch 34/100\n",
            "1563/1563 [==============================] - 43s 27ms/step - loss: 0.3383 - accuracy: 0.8831 - val_loss: 0.9867 - val_accuracy: 0.7226\n",
            "Epoch 35/100\n",
            "1563/1563 [==============================] - 43s 28ms/step - loss: 0.3287 - accuracy: 0.8860 - val_loss: 0.9974 - val_accuracy: 0.7180\n",
            "Epoch 36/100\n",
            "1561/1563 [============================>.] - ETA: 0s - loss: 0.3280 - accuracy: 0.8865\n",
            "Epoch 00036: ReduceLROnPlateau reducing learning rate to 3.125000148429535e-05.\n",
            "1563/1563 [==============================] - 43s 28ms/step - loss: 0.3279 - accuracy: 0.8865 - val_loss: 0.9811 - val_accuracy: 0.7190\n",
            "Epoch 37/100\n",
            "1563/1563 [==============================] - 43s 27ms/step - loss: 0.3158 - accuracy: 0.8905 - val_loss: 0.9945 - val_accuracy: 0.7202\n",
            "Epoch 38/100\n",
            "1563/1563 [==============================] - ETA: 0s - loss: 0.3151 - accuracy: 0.8924\n",
            "Epoch 00038: ReduceLROnPlateau reducing learning rate to 1.5625000742147677e-05.\n",
            "1563/1563 [==============================] - 43s 27ms/step - loss: 0.3151 - accuracy: 0.8924 - val_loss: 0.9964 - val_accuracy: 0.7201\n"
          ],
          "name": "stdout"
        }
      ]
    },
    {
      "cell_type": "code",
      "metadata": {
        "id": "iC4qfHjvV3tZ"
      },
      "source": [
        "alexnet.save('alexnet.h5')"
      ],
      "execution_count": null,
      "outputs": []
    },
    {
      "cell_type": "code",
      "metadata": {
        "id": "mT-sNO20CAkV"
      },
      "source": [
        ""
      ],
      "execution_count": null,
      "outputs": []
    },
    {
      "cell_type": "markdown",
      "metadata": {
        "id": "_Vs1ZKUdQcwM"
      },
      "source": [
        "\n",
        "вставить адам или рмс в ленет\n"
      ]
    },
    {
      "cell_type": "markdown",
      "metadata": {
        "id": "Fdw6nWuTpoAn"
      },
      "source": [
        "# best net\n"
      ]
    },
    {
      "cell_type": "code",
      "metadata": {
        "colab": {
          "base_uri": "https://localhost:8080/"
        },
        "id": "C-LPPpjTprdx",
        "outputId": "d0c11f13-37cb-4093-9f17-9d49565049b6"
      },
      "source": [
        "mod_net = Sequential()\n",
        "\n",
        "mod_net.add(Conv2D(6, kernel_size=(5, 5), strides=(1, 1), activation='relu', input_shape=X_train.shape[1:], padding=\"same\"))\n",
        "mod_net.add(BatchNormalization())\n",
        "mod_net.add(MaxPooling2D(pool_size=(2, 2), strides=(1, 1), padding='valid'))\n",
        "\n",
        "mod_net.add(Conv2D(16, kernel_size=(5, 5), strides=(1, 1), activation='relu', padding='valid'))\n",
        "mod_net.add(BatchNormalization())\n",
        "mod_net.add(MaxPooling2D(pool_size=(2, 2), strides=(2, 2), padding='valid'))\n",
        "\n",
        "mod_net.add(Conv2D(120, kernel_size=(5, 5), strides=(1, 1), activation='relu', padding='valid'))\n",
        "mod_net.add(BatchNormalization())\n",
        "\n",
        "\n",
        "mod_net.add(Flatten())\n",
        "mod_net.add(Dense(512, activation='relu'))\n",
        "mod_net.add(Dropout(0.4))\n",
        "mod_net.add(BatchNormalization())\n",
        "\n",
        "mod_net.add(Dense(120, activation='relu'))\n",
        "mod_net.add(Dropout(0.4))\n",
        "mod_net.add(BatchNormalization())\n",
        "\n",
        "mod_net.add(Dense(84, activation='relu'))\n",
        "mod_net.add(Dropout(0.2))\n",
        "mod_net.add(BatchNormalization())\n",
        "\n",
        "mod_net.add(Dense(y_train_cat.shape[1], activation='softmax'))\n",
        "\n",
        "mod_net.compile(loss=categorical_crossentropy, optimizer='adam', metrics=['accuracy'])\n",
        "mod_net.summary()"
      ],
      "execution_count": null,
      "outputs": [
        {
          "output_type": "stream",
          "text": [
            "Model: \"sequential\"\n",
            "_________________________________________________________________\n",
            "Layer (type)                 Output Shape              Param #   \n",
            "=================================================================\n",
            "conv2d (Conv2D)              (None, 32, 32, 6)         456       \n",
            "_________________________________________________________________\n",
            "batch_normalization (BatchNo (None, 32, 32, 6)         24        \n",
            "_________________________________________________________________\n",
            "max_pooling2d (MaxPooling2D) (None, 31, 31, 6)         0         \n",
            "_________________________________________________________________\n",
            "conv2d_1 (Conv2D)            (None, 27, 27, 16)        2416      \n",
            "_________________________________________________________________\n",
            "batch_normalization_1 (Batch (None, 27, 27, 16)        64        \n",
            "_________________________________________________________________\n",
            "max_pooling2d_1 (MaxPooling2 (None, 13, 13, 16)        0         \n",
            "_________________________________________________________________\n",
            "conv2d_2 (Conv2D)            (None, 9, 9, 120)         48120     \n",
            "_________________________________________________________________\n",
            "batch_normalization_2 (Batch (None, 9, 9, 120)         480       \n",
            "_________________________________________________________________\n",
            "max_pooling2d_2 (MaxPooling2 (None, 4, 4, 120)         0         \n",
            "_________________________________________________________________\n",
            "batch_normalization_3 (Batch (None, 4, 4, 120)         480       \n",
            "_________________________________________________________________\n",
            "flatten (Flatten)            (None, 1920)              0         \n",
            "_________________________________________________________________\n",
            "dense (Dense)                (None, 512)               983552    \n",
            "_________________________________________________________________\n",
            "dropout (Dropout)            (None, 512)               0         \n",
            "_________________________________________________________________\n",
            "batch_normalization_4 (Batch (None, 512)               2048      \n",
            "_________________________________________________________________\n",
            "dense_1 (Dense)              (None, 120)               61560     \n",
            "_________________________________________________________________\n",
            "dropout_1 (Dropout)          (None, 120)               0         \n",
            "_________________________________________________________________\n",
            "batch_normalization_5 (Batch (None, 120)               480       \n",
            "_________________________________________________________________\n",
            "dense_2 (Dense)              (None, 84)                10164     \n",
            "_________________________________________________________________\n",
            "dropout_2 (Dropout)          (None, 84)                0         \n",
            "_________________________________________________________________\n",
            "batch_normalization_6 (Batch (None, 84)                336       \n",
            "_________________________________________________________________\n",
            "dense_3 (Dense)              (None, 10)                850       \n",
            "=================================================================\n",
            "Total params: 1,111,030\n",
            "Trainable params: 1,109,074\n",
            "Non-trainable params: 1,956\n",
            "_________________________________________________________________\n"
          ],
          "name": "stdout"
        }
      ]
    },
    {
      "cell_type": "code",
      "metadata": {
        "colab": {
          "base_uri": "https://localhost:8080/"
        },
        "id": "djKH4gvRrL_c",
        "outputId": "99e3cb6e-5d4c-4fce-8ef6-c8c3fc560ea8"
      },
      "source": [
        "history_mod = mod_net.fit(datagen.flow(X_train, y_train_cat, batch_size=32), epochs=100,\n",
        "                       validation_data=(X_test, y_test_cat), callbacks=[lrr, early_stop])"
      ],
      "execution_count": null,
      "outputs": [
        {
          "output_type": "stream",
          "text": [
            "Epoch 1/100\n",
            "1563/1563 [==============================] - 29s 19ms/step - loss: 1.8153 - accuracy: 0.3417 - val_loss: 1.5812 - val_accuracy: 0.4298\n",
            "Epoch 2/100\n",
            "1563/1563 [==============================] - 29s 18ms/step - loss: 1.4665 - accuracy: 0.4764 - val_loss: 1.1910 - val_accuracy: 0.5739\n",
            "Epoch 3/100\n",
            "1563/1563 [==============================] - 29s 18ms/step - loss: 1.3290 - accuracy: 0.5347 - val_loss: 1.2045 - val_accuracy: 0.5755\n",
            "Epoch 4/100\n",
            "1563/1563 [==============================] - 29s 19ms/step - loss: 1.2436 - accuracy: 0.5690 - val_loss: 1.0211 - val_accuracy: 0.6370\n",
            "Epoch 5/100\n",
            "1563/1563 [==============================] - 29s 18ms/step - loss: 1.1818 - accuracy: 0.5880 - val_loss: 1.2988 - val_accuracy: 0.5488\n",
            "Epoch 6/100\n",
            "1563/1563 [==============================] - 29s 18ms/step - loss: 1.1484 - accuracy: 0.6039 - val_loss: 0.9675 - val_accuracy: 0.6624\n",
            "Epoch 7/100\n",
            "1563/1563 [==============================] - 29s 18ms/step - loss: 1.1043 - accuracy: 0.6210 - val_loss: 1.0450 - val_accuracy: 0.6367\n",
            "Epoch 8/100\n",
            "1563/1563 [==============================] - 29s 18ms/step - loss: 1.0750 - accuracy: 0.6317 - val_loss: 0.8811 - val_accuracy: 0.6917\n",
            "Epoch 9/100\n",
            "1563/1563 [==============================] - 29s 18ms/step - loss: 1.0562 - accuracy: 0.6378 - val_loss: 0.9589 - val_accuracy: 0.6659\n",
            "Epoch 10/100\n",
            "1563/1563 [==============================] - 29s 18ms/step - loss: 1.0366 - accuracy: 0.6461 - val_loss: 0.8742 - val_accuracy: 0.6943\n",
            "Epoch 11/100\n",
            "1563/1563 [==============================] - 29s 18ms/step - loss: 1.0232 - accuracy: 0.6514 - val_loss: 0.9118 - val_accuracy: 0.6833\n",
            "Epoch 12/100\n",
            "1563/1563 [==============================] - ETA: 0s - loss: 1.0006 - accuracy: 0.6580\n",
            "Epoch 00012: ReduceLROnPlateau reducing learning rate to 0.0005000000237487257.\n",
            "1563/1563 [==============================] - 29s 18ms/step - loss: 1.0006 - accuracy: 0.6580 - val_loss: 1.0038 - val_accuracy: 0.6593\n",
            "Epoch 13/100\n",
            "1563/1563 [==============================] - 29s 18ms/step - loss: 0.9455 - accuracy: 0.6775 - val_loss: 0.7789 - val_accuracy: 0.7314\n",
            "Epoch 14/100\n",
            "1563/1563 [==============================] - 29s 19ms/step - loss: 0.9297 - accuracy: 0.6851 - val_loss: 0.8865 - val_accuracy: 0.6965\n",
            "Epoch 15/100\n",
            "1563/1563 [==============================] - ETA: 0s - loss: 0.9212 - accuracy: 0.6853\n",
            "Epoch 00015: ReduceLROnPlateau reducing learning rate to 0.0002500000118743628.\n",
            "1563/1563 [==============================] - 29s 18ms/step - loss: 0.9212 - accuracy: 0.6853 - val_loss: 0.7821 - val_accuracy: 0.7279\n",
            "Epoch 16/100\n",
            "1563/1563 [==============================] - 29s 18ms/step - loss: 0.8923 - accuracy: 0.6954 - val_loss: 0.7596 - val_accuracy: 0.7351\n",
            "Epoch 17/100\n",
            "1563/1563 [==============================] - 29s 18ms/step - loss: 0.8770 - accuracy: 0.6999 - val_loss: 0.7428 - val_accuracy: 0.7446\n",
            "Epoch 18/100\n",
            "1563/1563 [==============================] - 29s 18ms/step - loss: 0.8650 - accuracy: 0.7056 - val_loss: 0.7390 - val_accuracy: 0.7456\n",
            "Epoch 19/100\n",
            "1563/1563 [==============================] - 29s 18ms/step - loss: 0.8655 - accuracy: 0.7050 - val_loss: 0.7599 - val_accuracy: 0.7375\n",
            "Epoch 20/100\n",
            "1563/1563 [==============================] - 29s 18ms/step - loss: 0.8551 - accuracy: 0.7095 - val_loss: 0.7259 - val_accuracy: 0.7486\n",
            "Epoch 21/100\n",
            "1563/1563 [==============================] - 29s 18ms/step - loss: 0.8498 - accuracy: 0.7132 - val_loss: 0.7451 - val_accuracy: 0.7429\n",
            "Epoch 22/100\n",
            "1561/1563 [============================>.] - ETA: 0s - loss: 0.8459 - accuracy: 0.7141\n",
            "Epoch 00022: ReduceLROnPlateau reducing learning rate to 0.0001250000059371814.\n",
            "1563/1563 [==============================] - 29s 18ms/step - loss: 0.8457 - accuracy: 0.7140 - val_loss: 0.7384 - val_accuracy: 0.7424\n",
            "Epoch 23/100\n",
            "1563/1563 [==============================] - 29s 18ms/step - loss: 0.8298 - accuracy: 0.7176 - val_loss: 0.7444 - val_accuracy: 0.7441\n",
            "Epoch 24/100\n",
            "1563/1563 [==============================] - 29s 18ms/step - loss: 0.8259 - accuracy: 0.7201 - val_loss: 0.7108 - val_accuracy: 0.7537\n",
            "Epoch 25/100\n",
            "1563/1563 [==============================] - 29s 19ms/step - loss: 0.8220 - accuracy: 0.7206 - val_loss: 0.7214 - val_accuracy: 0.7508\n",
            "Epoch 26/100\n",
            "1563/1563 [==============================] - ETA: 0s - loss: 0.8196 - accuracy: 0.7212\n",
            "Epoch 00026: ReduceLROnPlateau reducing learning rate to 6.25000029685907e-05.\n",
            "1563/1563 [==============================] - 28s 18ms/step - loss: 0.8196 - accuracy: 0.7212 - val_loss: 0.7205 - val_accuracy: 0.7485\n",
            "Epoch 27/100\n",
            "1563/1563 [==============================] - 29s 18ms/step - loss: 0.8102 - accuracy: 0.7245 - val_loss: 0.7140 - val_accuracy: 0.7523\n",
            "Epoch 28/100\n",
            "1563/1563 [==============================] - 29s 18ms/step - loss: 0.8138 - accuracy: 0.7242 - val_loss: 0.6960 - val_accuracy: 0.7604\n",
            "Epoch 29/100\n",
            "1563/1563 [==============================] - 28s 18ms/step - loss: 0.8086 - accuracy: 0.7249 - val_loss: 0.6923 - val_accuracy: 0.7603\n",
            "Epoch 30/100\n",
            "1561/1563 [============================>.] - ETA: 0s - loss: 0.8027 - accuracy: 0.7260\n",
            "Epoch 00030: ReduceLROnPlateau reducing learning rate to 3.125000148429535e-05.\n",
            "1563/1563 [==============================] - 28s 18ms/step - loss: 0.8026 - accuracy: 0.7259 - val_loss: 0.6964 - val_accuracy: 0.7588\n",
            "Epoch 31/100\n",
            "1563/1563 [==============================] - 29s 18ms/step - loss: 0.8016 - accuracy: 0.7283 - val_loss: 0.7023 - val_accuracy: 0.7578\n",
            "Epoch 32/100\n",
            "1561/1563 [============================>.] - ETA: 0s - loss: 0.7981 - accuracy: 0.7273\n",
            "Epoch 00032: ReduceLROnPlateau reducing learning rate to 1.5625000742147677e-05.\n",
            "1563/1563 [==============================] - 29s 18ms/step - loss: 0.7979 - accuracy: 0.7274 - val_loss: 0.7020 - val_accuracy: 0.7574\n"
          ],
          "name": "stdout"
        }
      ]
    },
    {
      "cell_type": "code",
      "metadata": {
        "id": "UNWL8yqwrcLz"
      },
      "source": [
        ""
      ],
      "execution_count": null,
      "outputs": []
    },
    {
      "cell_type": "markdown",
      "metadata": {
        "id": "eYIT3qBRwACb"
      },
      "source": [
        "было 78\n"
      ]
    },
    {
      "cell_type": "code",
      "metadata": {
        "id": "1HQySnDuwBjF"
      },
      "source": [
        ""
      ],
      "execution_count": null,
      "outputs": []
    }
  ]
}